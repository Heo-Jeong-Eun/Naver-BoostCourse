{
 "cells": [
  {
   "cell_type": "code",
   "execution_count": null,
   "metadata": {},
   "outputs": [],
   "source": [
    "# Q1. 주어진 index와 data를 이용해 Pandas의 Series를 제작\n",
    "# output : 조건에 맞는 Series\n",
    "\n",
    "# A. \n",
    "#   1. import pandas\n",
    "#   2. series의 data와 index를 지정한다. \n",
    "#   3. 조건에 맞는 series 재정의를 위해 []안에 조건을 넣어준다. \n",
    "\n",
    "import numpy as np\n",
    "import pandas as pd \n",
    "\n",
    "index = [\"HDD\", \"SSD\", \"USB\", \"CLOUD\"]\n",
    "data = [19, 11, 5, 97]\n",
    "\n",
    "series = pd.Series(data, index) \n",
    "# series = pd.Series(value = data, index = index) \n",
    "# pandas의 series는 1차원 배열이라고 할 수 있다. \n",
    "# series는 numpy와 다르게 명시적 index가 존재한다.\n",
    "# series의 값과 index는 values와 index라는 속성으로 접근이 가능하다. \n",
    "# 이때 value는 numpy 배열이다. \n",
    "\n",
    "series = series[10 <= series][series <= 20]\n",
    "# []안에 조건을 넣어주면 해당 조건이 참인 행을 선택한다.\n",
    "\n",
    "print(series)"
   ]
  }
 ],
 "metadata": {
  "kernelspec": {
   "display_name": "Python 3",
   "language": "python",
   "name": "python3"
  },
  "language_info": {
   "name": "python",
   "version": "3.9.6"
  },
  "orig_nbformat": 4,
  "vscode": {
   "interpreter": {
    "hash": "31f2aee4e71d21fbe5cf8b01ff0e069b9275f58929596ceb00d14d90e3e16cd6"
   }
  }
 },
 "nbformat": 4,
 "nbformat_minor": 2
}
