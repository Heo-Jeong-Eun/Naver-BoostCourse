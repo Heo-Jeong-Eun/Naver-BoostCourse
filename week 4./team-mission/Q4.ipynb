{
 "cells": [
  {
   "cell_type": "code",
   "execution_count": null,
   "metadata": {},
   "outputs": [],
   "source": [
    "# Q4. 주어진 데이터가 있을 때, 마커의 모양, 색상을 지정해 그래프를 제작\n",
    "# output : matplotlib을 이용해 작성한 그래프\n",
    "\n",
    "# A. \n",
    "#   1. import matplotlib.pyplot as plt\n",
    "#   2. plt.plot에 옵션을 사용해 마커의 모양과 색상을 지정한다. \n",
    "\n",
    "import numpy as np\n",
    "import matplotlib.pyplot as plt\n",
    "\n",
    "t = np.arange(0., 5., 0.2)\n",
    "# 200ms 간격으로 균일하게 샘플된 시간\n",
    "\n",
    "# plt.xlim([0, 5]) # x축 범위 설정 \n",
    "# plt.ylim([0, 100]) # y축 범위 설정 \n",
    "plt.axis([0, 5, 0, 100]) # axis로 한번에 x,y축의범위를 지정할 수 있다. \n",
    "\n",
    "# case 1. 한줄에 작성\n",
    "# plt.plot(t, t, 'r--', t, t**2, 'gs', t, t**3, 'b^')\n",
    "\n",
    "# case 2. 간결하게 작성, Y3과 Y2의 크기와 간격을 지정하고 싶어 이 방법으로 코드를 작성했다.\n",
    "plt.plot(t, t**3, 'b^', markersize = 5, linewidth = 5)\n",
    "# t는 X, t**3는 Y3, ^은 삼각형, b는 blue, 마커의 크기와 간격을 5로로 지정\n",
    "plt.plot(t, t**2, 'gs', markersize = 5, linewidth = 5)\n",
    "# t는 X, t**2는 Y2, s은 사각형, g는 greeen, 마커의 크기와 간격을 5로로 지정\n",
    "plt.plot(t, t, 'r--')\n",
    "# t는 X, 두번째 t는 Y1, --은 점선, r은 red\n",
    "\n",
    "# case 3. 모든 옵션을 풀어서 작성\n",
    "# plt.plot(t, t**3, linestyle='', marker = '^', markersize = 5, linewidth = 5, color = 'b')\n",
    "\n",
    "plt.show() # 그래프 출력"
   ]
  }
 ],
 "metadata": {
  "kernelspec": {
   "display_name": "Python 3",
   "language": "python",
   "name": "python3"
  },
  "language_info": {
   "name": "python",
   "version": "3.9.6"
  },
  "orig_nbformat": 4,
  "vscode": {
   "interpreter": {
    "hash": "31f2aee4e71d21fbe5cf8b01ff0e069b9275f58929596ceb00d14d90e3e16cd6"
   }
  }
 },
 "nbformat": 4,
 "nbformat_minor": 2
}
