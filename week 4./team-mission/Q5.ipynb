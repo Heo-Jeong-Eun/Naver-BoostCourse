{
 "cells": [
  {
   "cell_type": "code",
   "execution_count": null,
   "metadata": {},
   "outputs": [],
   "source": [
    "# Q5. 주어진 데이터가 있을 때, 막대, 점, 선 그래프로 나눠 한 행에 출력\n",
    "# output : matplotlib을 이용해 작성한 그래프\n",
    "\n",
    "# A. \n",
    "#   1. import matplotlib.pyplot as plt\n",
    "#   2. subplot으로 구성할 행과 열을 지정\n",
    "#   3. bar로 막대, scatter으로 점, plot으로 선 그래프를 작성한다. \n",
    "\n",
    "import matplotlib.pyplot as plt\n",
    "\n",
    "names = [\"group_a\", \"group_b\", \"group_c\"]\n",
    "values = [1, 10, 100]\n",
    "\n",
    "plt.figure(figsize = (9, 3))\n",
    "\n",
    "plt.subplot(1, 3, 1) # 1행 3열 그래프 중 첫번째 \n",
    "plt.bar(names, values) # 막대 그래프, x = names, y = values\n",
    "plt.subplot(1, 3, 2) # 1행 3열 그래프 중 2번째 \n",
    "plt.scatter(names, values) # 점 그래프, x = names, y = values\n",
    "plt.subplot(1, 3, 3) # 1행 3열 그래프 중 3번째 \n",
    "plt.plot(names, values) # 선 그래프, x = names, y = values\n",
    "\n",
    "plt.show() # 그래프 출력"
   ]
  }
 ],
 "metadata": {
  "kernelspec": {
   "display_name": "Python 3",
   "language": "python",
   "name": "python3"
  },
  "language_info": {
   "name": "python",
   "version": "3.9.6"
  },
  "orig_nbformat": 4,
  "vscode": {
   "interpreter": {
    "hash": "31f2aee4e71d21fbe5cf8b01ff0e069b9275f58929596ceb00d14d90e3e16cd6"
   }
  }
 },
 "nbformat": 4,
 "nbformat_minor": 2
}
