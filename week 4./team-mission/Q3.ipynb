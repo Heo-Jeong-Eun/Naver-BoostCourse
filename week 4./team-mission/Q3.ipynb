{
 "cells": [
  {
   "cell_type": "code",
   "execution_count": null,
   "metadata": {},
   "outputs": [],
   "source": [
    "# Q3. 주어진 data를 사용해 Dataframe을 제작한다.\n",
    "# 참가자의 이름으로 index, round 이름이 들어간 col을 column을 설정한다. \n",
    "# round 6을 추가한 DataFrame을 출력한다. \n",
    "# mean, min, max 값을 출력한다. \n",
    "# output : 조건에 맞는 Dataframe\n",
    "\n",
    "# A. \n",
    "#   1. import pandas\n",
    "#   2. 정의된 data로 DataFrame 제작\n",
    "#   3. index와 col을 지정한다. \n",
    "#   4. DataFrame에 round_6 col을 추가한다. \n",
    "#   5. mean, min, max를 계산한 값을 DataFrame 형태로 출력한다. \n",
    "\n",
    "import pandas as pd\n",
    "\n",
    "index = [\"Sue\", \"Ryan\", \"Jay\", \"Jane\", \"Anna\"]\n",
    "col = [\"round_1\", \"round_2\", \"round_3\", \"round_4\", \"round_5\"]\n",
    "data = [[55, 65, 60, 66, 57],\n",
    "        [64, 77, 71, 79, 67],\n",
    "        [88, 81, 79, 89, 77],\n",
    "        [45, 35, 30, 46, 47],\n",
    "        [91, 96, 90, 97, 99]]\n",
    "\n",
    "df = pd.DataFrame(data) # data로 DataFrame 생성\n",
    "df.index = index # index를 index 배열의 값로 지정한다. \n",
    "df.columns = col # columns를 col 배열의 값으로 지정한다. \n",
    "df # df 출력"
   ]
  },
  {
   "cell_type": "code",
   "execution_count": null,
   "metadata": {},
   "outputs": [],
   "source": [
    "df['round_6'] = [11, 15, 13, 17, 19] # col 추가 : df['기존에 없던 col 이름'] = '넣을 값'\n",
    "df # df 출력"
   ]
  },
  {
   "cell_type": "code",
   "execution_count": null,
   "metadata": {},
   "outputs": [],
   "source": [
    "new_df = pd.DataFrame([df.mean(), df.max(), df.min()]) \n",
    "# new_df DataFrame의 data 값으로 df의 평균, 최대값, 최소값을 넣는다. \n",
    "new_df.index = ['mean', 'max', 'min']\n",
    "# index는 mean, max, min으로 지정한다. \n",
    "new_df # new_df 출력"
   ]
  }
 ],
 "metadata": {
  "kernelspec": {
   "display_name": "Python 3",
   "language": "python",
   "name": "python3"
  },
  "language_info": {
   "name": "python",
   "version": "3.9.6"
  },
  "orig_nbformat": 4,
  "vscode": {
   "interpreter": {
    "hash": "31f2aee4e71d21fbe5cf8b01ff0e069b9275f58929596ceb00d14d90e3e16cd6"
   }
  }
 },
 "nbformat": 4,
 "nbformat_minor": 2
}
