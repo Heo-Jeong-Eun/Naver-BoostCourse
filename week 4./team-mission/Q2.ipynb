{
 "cells": [
  {
   "cell_type": "code",
   "execution_count": null,
   "metadata": {},
   "outputs": [],
   "source": [
    "# Q2. 주어진 2개의 data를 하나의 Pandas DataFrame으로 제작, 가장 비싼 가격의 합을 출력한다. \n",
    "# output : 조건에 맞는 Dataframe\n",
    "\n",
    "# A. \n",
    "#   1. import pandas\n",
    "#   2. 정의된 data로 DataFrame 제작\n",
    "#   3. concat을 이용해 data_1과 data_2를 결합\n",
    "#   4. 'Price'를 기준으로 내림차순 정렬을 한다. \n",
    "#   5. slicing과 sum을 이용해 가장 비싼 가격 2가지 분리 후 합친다. \n",
    "\n",
    "import pandas as pd\n",
    "\n",
    "data_1 = {\n",
    "          \"Name\" : [\"cherry\", \"mango\", \" patato\", \"onion\"],\n",
    "          \"Type\" : [\"Fruit\", \"Fruit\", \"Vegetable\", \"Vegetable\"],\n",
    "          \"Price\" : [100, 110, 60, 80]\n",
    "          }\n",
    "data_2 = {\n",
    "          \"Name\" : [\"pepper\", \"carrot\", \"banana\", \"kiwi\"],\n",
    "          \"Type\" : [\"Vegetable\", \"Vegetable\", \"Fruit\", \"Fruit\"],\n",
    "          \"Price\" : [50, 70, 90, 120]\n",
    "          }\n",
    "# data 저장 \n",
    "\n",
    "df1 = pd.DataFrame(data_1, columns = [\"Name\", \"Type\", \"Price\"])\n",
    "df2 = pd.DataFrame(data_2, columns = [\"Name\", \"Type\", \"Price\"])\n",
    "# Pandas DataFrame 제작, column을 주어진 data에 맞게 지정해준다. \n",
    "\n",
    "df3 = pd.concat([df1, df2], ignore_index = True)\n",
    "# df1, df2를 concat을 이용해 결합\n",
    "# ignore_index = True를 하지 않으면 이전 data의 index를 그대로 가져온다.\n",
    "# index를 유지해야하는 경우가 아니므로 무시해주는 옵션을 넣는다. \n",
    "\n",
    "df_fruit = df3[df3[\"Type\"] == 'Fruit'].sort_values(ascending = False, by = ['Price'])\n",
    "df_veg = df3[df3[\"Type\"] == 'Vegetable'].sort_values(ascending = False, by = ['Price'])\n",
    "# sort_values를 이용해 정렬, ascending = False이므로 내림차순 정렬이 된다. \n",
    "# by 옵션으로 특정 col을 지정해 값에 따라 정렬할 수 있다. \n",
    "# 가장 높은 가격을 확인하고자 하므로 'Price'를 기준으로 한다. \n",
    " \n",
    "fruit_sum = df_fruit[0:2].sum()\n",
    "veg_sum = df_veg[0:2].sum()\n",
    "# slicing을 사용해 상위 2개만 추출, sum()을 사용해 두 값을 더한 뒤 저장해준다. \n",
    "\n",
    "print(\"Sum of Top 2 Fruit Price : \", fruit_sum['Price'])\n",
    "print(\"Sum of Top 2 Vegetable Price : \", veg_sum['Price'])"
   ]
  }
 ],
 "metadata": {
  "kernelspec": {
   "display_name": "Python 3",
   "language": "python",
   "name": "python3"
  },
  "language_info": {
   "name": "python",
   "version": "3.9.6"
  },
  "orig_nbformat": 4,
  "vscode": {
   "interpreter": {
    "hash": "31f2aee4e71d21fbe5cf8b01ff0e069b9275f58929596ceb00d14d90e3e16cd6"
   }
  }
 },
 "nbformat": 4,
 "nbformat_minor": 2
}
