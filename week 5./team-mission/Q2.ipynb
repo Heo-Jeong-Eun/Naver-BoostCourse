{
 "cells": [
  {
   "cell_type": "code",
   "execution_count": null,
   "metadata": {},
   "outputs": [],
   "source": [
    "# Q2. MNIST 데이터셋을 Load -> 학습할 모델을 구현, 가중치 초기화 \n",
    "# output : 학습할 모델, 가중치 초기화 \n",
    "\n",
    "# A. \n",
    "#   1. device = GPU를 사용 가능하면 cuda, 아닌 경우는 cpu\n",
    "#   2. linear = 학습시키기 위한 모델 정의\n",
    "#   3. 가중치 초기화 \n",
    "\n",
    "import torch\n",
    "import torch.nn as nn\n",
    "import torchvision.datasets as dset \n",
    "import torchvision.transforms as transforms\n",
    "from torch.utils.data import DataLoader\n",
    "\n",
    "device = torch.device('cuda' if torch.cuda.is_available() else 'cpu')\n",
    "# pythorch에서 그래픽 카드를 사용하는 방법이다. \n",
    "# 모델의 매개변수 Tensor를 CUDA Tensor로 변환하기 위해 호출한다. \n",
    "# GPU를 사용 가능하면 cuda, 아닌 경우는 cpu를 사용한다는 코드이다. \n",
    "linear = torch.nn.Linear(784, 10, bias = True).to(device)\n",
    "# 이미지가 의미하는 것이 무엇인지 학습시키기 위한 모델을 정의한다. \n",
    "# 28 X 28이므로 화소값으로 784, 출력값은 해당 이미지가 어떤 숫자인지에 대한 0-9까지 확률값이므로 총 10개이다.\n",
    "# bais = True는 가중치 외에 편향값도 사용한다는 의미이다. \n",
    "\n",
    "torch.nn.init.normal_(linear.weight)\n",
    "# 가중치 초기화 \n",
    "# normal distribution"
   ]
  }
 ],
 "metadata": {
  "kernelspec": {
   "display_name": "Python 3",
   "language": "python",
   "name": "python3"
  },
  "language_info": {
   "name": "python",
   "version": "3.9.6"
  },
  "orig_nbformat": 4,
  "vscode": {
   "interpreter": {
    "hash": "31f2aee4e71d21fbe5cf8b01ff0e069b9275f58929596ceb00d14d90e3e16cd6"
   }
  }
 },
 "nbformat": 4,
 "nbformat_minor": 2
}
