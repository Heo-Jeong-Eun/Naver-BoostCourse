{
 "cells": [
  {
   "cell_type": "code",
   "execution_count": null,
   "metadata": {},
   "outputs": [],
   "source": [
    "# Q1. MNIST 데이터셋을 Load\n",
    "# output : DataLoader 구현 \n",
    "\n",
    "# A. \n",
    "#   1. import torchvision 패키지 datasets 모듈 \n",
    "#   2. training_epochs, batch_size 지정\n",
    "#   3. download path 정의\n",
    "#   4. torchvision.datasets 모듈의 MNIST 객체의 데이터를 불러와 데이터셋 객체를 만든다.\n",
    "#   5. 제작한 데이터셋 객체로 data loader 객체를 만든다.  \n",
    "\n",
    "import torch\n",
    "import torch.nn as nn\n",
    "import torchvision.datasets as dset # pytorch에 있는 이미지 관련 학습을 위한 패키지, 테스트 목적의 데이터셋을 쉽게 불러올 수 있다.\n",
    "import torchvision.transforms as transforms\n",
    "from torch.utils.data import DataLoader\n",
    "# colab에서 download 할 때는 다음과 같이 모듈을 작성해야 한다. HTTP Error가 발생 \n",
    "# pytorch는 DataLoaer를 불러 model에 넣는다. \n",
    "# torchvision.datasets 모듈의 MNIST 객체로 MNIST 데이터를 불러와 dataset 객체를 만든다. \n",
    "\n",
    "training_epochs = 15 # training 반복 횟수\n",
    "batch_size = 100 # 전체 데이터를 자를 사이즈, 어떤 사이즈로 데이터를 등분할 것인가  \n",
    "\n",
    "root = './data' # download path 정의\n",
    "mnist_train = dset.MNIST (root=root, train=True, transform=transforms, download=True)\n",
    "mnist_test = dset.MNIST (root=root, train=False, transform=transforms, download=True)\n",
    "# root : 데이터의 경로를 넣는다. / train : 테스트용 데이터를 가져올지 학습용 데이터를 가져올지 표시한다. True(테스트), False(학습)\n",
    "# transform : 어떤 형태로 데이터를 불러올 것인가를 결정한다. 일반 이미지(0-255 사이의 값), transform.ToTensor()를 넣어 일반 이미지(PIL image)를 pythorch tensor로 변환한다.\n",
    "# download : True로 설정 -> MNIST 데이터가 없다면 다운받는다. \n",
    "\n",
    "train_loader = DataLoader(dataset=mnist_train, batch_size=batch_size, shuffle=True) # DataLoader를 이용한 MNIST datasets 로딩\n",
    "test_loader = DataLoader(dataset=mnist_test, batch_size=batch_size, shuffle=True) # DataLoader를 이용한 MNIST datasets 로딩\n",
    "# dataset : 어떤 데이터를 로드할 것인가를 결정한다. / batch_size = batch size / shuffle : 순서를 무작위로 할 것인지, 있는 순서대로 진행할 것인지\n",
    "# drop_last : batch_size로 자를 때 맨 마지막에 남는 데이터를 사용할 것인가, 버릴 것인가 "
   ]
  }
 ],
 "metadata": {
  "kernelspec": {
   "display_name": "Python 3",
   "language": "python",
   "name": "python3"
  },
  "language_info": {
   "name": "python",
   "version": "3.9.6"
  },
  "orig_nbformat": 4,
  "vscode": {
   "interpreter": {
    "hash": "31f2aee4e71d21fbe5cf8b01ff0e069b9275f58929596ceb00d14d90e3e16cd6"
   }
  }
 },
 "nbformat": 4,
 "nbformat_minor": 2
}
