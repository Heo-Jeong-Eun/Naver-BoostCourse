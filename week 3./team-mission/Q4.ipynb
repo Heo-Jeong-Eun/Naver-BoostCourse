{
 "cells": [
  {
   "cell_type": "code",
   "execution_count": null,
   "metadata": {},
   "outputs": [],
   "source": [
    "# Q4. linear regression 계산을 진행할 시 직선의 기울기와 y절편 값으로 \n",
    "# 3번에서 분리한 x_train 데이터와 계산될 weight, bias 값을 정의한다. \n",
    "# numpy 내 random 함수를 이용해 계산한다. \n",
    "\n",
    "# A. \n",
    "#   1. import numpy\n",
    "#   2. 데이터를 분리, beta_gd와 bias에 random 값 삽입 후 출력 -> 출력 결과가 random 값이라 변동될 수 있다는 것을 보고 다음과 같이 풀이했다. \n",
    "\n",
    "import numpy as np\n",
    "\n",
    "xy = np.array([[1., 2., 3., 4., 5., 6.], [10., 20., 30., 40., 50., 60.]])\n",
    "\n",
    "x_train = xy[0]\n",
    "y_train = xy[1]\n",
    "\n",
    "beta_gd = np.random.rand(1) # random 함수 대입\n",
    "bias = np.random.rand(1) # random 함수 대입\n",
    "\n",
    "print(beta_gd, bias)"
   ]
  }
 ],
 "metadata": {
  "kernelspec": {
   "display_name": "Python 3",
   "language": "python",
   "name": "python3"
  },
  "language_info": {
   "name": "python",
   "version": "3.9.6"
  },
  "orig_nbformat": 4,
  "vscode": {
   "interpreter": {
    "hash": "31f2aee4e71d21fbe5cf8b01ff0e069b9275f58929596ceb00d14d90e3e16cd6"
   }
  }
 },
 "nbformat": 4,
 "nbformat_minor": 2
}
