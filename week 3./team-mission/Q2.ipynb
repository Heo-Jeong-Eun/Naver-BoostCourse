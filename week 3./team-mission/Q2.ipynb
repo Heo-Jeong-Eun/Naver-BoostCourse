{
 "cells": [
  {
   "cell_type": "code",
   "execution_count": null,
   "metadata": {},
   "outputs": [],
   "source": [
    "# Q2. 두 numpy array의 concatenate 연산을 구현한다. \n",
    "# axis는 0, 1 두개로 연산한 결과를 출력, 각 데이터가 어떤 형태로 더해지는지 확인한다. \n",
    "# output : axis가 0일 때 numpy array 행렬, axis가 1일 때 numpy array 행렬 \n",
    "\n",
    "# A. \n",
    "#   1. import numpy\n",
    "#   2. 주어진 데이터에 concatenate 연산을 사용\n",
    "#   3. axis가 0일 때, 1일때 조건으로 concat 변수에 저장 후 출력\n",
    "\n",
    "import numpy as np\n",
    "\n",
    "arr1 = np.array([[5, 7], [9, 11]], float)\n",
    "arr2 = np.array([[2, 4], [6, 8]], float)\n",
    "\n",
    "concat_1 = np.concatenate((arr1, arr2), axis = 0)\n",
    "concat_2 = np.concatenate((arr1, arr2), axis = 1)\n",
    "# concatenate는 선택한 축, 즉 axis 방향으로 배열을 연결해주는 methond이다. \n",
    "# 단어 의미 그대로 사슬처럼 연결하는 형식이다. \n",
    "# 1차원에서 axis = 0은 행, 열 방향이라는 개념이 없다. \n",
    "# 1차원에서 axis = 1인 경우는 error가 발생하는데 axis = 0 하나뿐이기 때문이다. 직선이라고 생각하면 쉽다.\n",
    "# 문제와 같이 2차원인 경우 axis = 0은 행방향, 즉 위 -> 아래를 의미한다. \n",
    "# 2차원 axis = 1의 경우는 열방향, 즉 좌 -> 우를 의미한다. \n",
    "\n",
    "print(concat_1)\n",
    "print(concat_2)"
   ]
  }
 ],
 "metadata": {
  "kernelspec": {
   "display_name": "Python 3",
   "language": "python",
   "name": "python3"
  },
  "language_info": {
   "codemirror_mode": {
    "name": "ipython",
    "version": 3
   },
   "file_extension": ".py",
   "mimetype": "text/x-python",
   "name": "python",
   "nbconvert_exporter": "python",
   "pygments_lexer": "ipython3",
   "version": "3.9.6"
  },
  "orig_nbformat": 4,
  "vscode": {
   "interpreter": {
    "hash": "31f2aee4e71d21fbe5cf8b01ff0e069b9275f58929596ceb00d14d90e3e16cd6"
   }
  }
 },
 "nbformat": 4,
 "nbformat_minor": 2
}
