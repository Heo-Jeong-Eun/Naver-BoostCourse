{
 "cells": [
  {
   "cell_type": "code",
   "execution_count": null,
   "metadata": {},
   "outputs": [],
   "source": [
    "# Q1. 랜덤 데이터를 가진 5x3, 3x2 행렬을 가지는 numpy array 각각 생성 후 행열곱 연산을 출력한다. \n",
    "# output : 랜덤 데이터를 갖는 5x2 numpy array 행렬 \n",
    "\n",
    "# A. \n",
    "#   1. import numpy\n",
    "#   2. numpy 라이브러리의 random.rand()를 사용해 랜덤 데이터를 생성\n",
    "#   3. dot으로 행렬 곱 후 출력\n",
    "\n",
    "import numpy as np\n",
    "\n",
    "arr1 = np.random.rand(5, 3)\n",
    "arr2 = np.random.rand(3, 2)\n",
    "# random.rand는 주어진 형태의 난수 array를 생성하는 함수이다.\n",
    "# 만들어진 난수 array는 주어진 값에 의해 결정되며 0-1 범위에서 균일한 분포를 갖는다. \n",
    "\n",
    "dot = np.dot(arr1, arr2)\n",
    "# 백터 내적, 각 원소를 곱한 값들을 더한 내적 연산을 수행한다. \n",
    "# dot을 사용해 1차원 행렬곱을 계산하는 경우 양쪽 array의 원소 갯수가 불일치하면 value error가 발생하므로 주의해야한다. \n",
    "# array가 모두 1차원인 경우는 dot 사용을 권장하지만 2차원인 경우 matmul 혹은 @으로 행렬 곱 수행을 권장한다. \n",
    "\n",
    "print(dot, dot.shape)\n",
    "# shape은 행렬의 차원을 의미한다. array를 생성하고 shape을 사용하면 해당 차원이 몇차원인지 표시한다. \n",
    "# reshape을 사용해 행렬의 차원을 변경할 수도 있다. "
   ]
  }
 ],
 "metadata": {
  "kernelspec": {
   "display_name": "Python 3",
   "language": "python",
   "name": "python3"
  },
  "language_info": {
   "codemirror_mode": {
    "name": "ipython",
    "version": 3
   },
   "file_extension": ".py",
   "mimetype": "text/x-python",
   "name": "python",
   "nbconvert_exporter": "python",
   "pygments_lexer": "ipython3",
   "version": "3.9.6"
  },
  "orig_nbformat": 4,
  "vscode": {
   "interpreter": {
    "hash": "31f2aee4e71d21fbe5cf8b01ff0e069b9275f58929596ceb00d14d90e3e16cd6"
   }
  }
 },
 "nbformat": 4,
 "nbformat_minor": 2
}
