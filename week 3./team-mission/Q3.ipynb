{
 "cells": [
  {
   "cell_type": "code",
   "execution_count": null,
   "metadata": {},
   "outputs": [],
   "source": [
    "# Q3. linear regression을 구현하는 문제, 다음과 같이 데이터가 주어졌을 때 경사하강법을 위한 데이터를 분리한다. \n",
    "# 주어진 xy 데이터를 이용해서 학습과 정답 데이터를 준비한다. \n",
    "# output : 분리된 xy 데이터와 행렬의 차원 출력 \n",
    "\n",
    "# A. \n",
    "#   1. import numpy\n",
    "#   2. 데이터를 분리 후 출력\n",
    "\n",
    "import numpy as np\n",
    "\n",
    "xy = np.array([[1., 2., 3., 4., 5., 6.], [10., 20., 30., 40., 50., 60.]])\n",
    "\n",
    "x_train = xy[0] # xy의 index 0번째, 즉 [1., 2., 3., 4., 5., 6.]을 x_train에 저장\n",
    "y_train = xy[1] # xy의 index 1번째, 즉 [10., 20., 30., 40., 50., 60.]을 y_train에 저장\n",
    "# xy[0]이나 xy[1]안 원소에 접근하고 싶다면 slicing을 사용해 접근할 수 있다. ex) xy[0, 1:4]\n",
    "\n",
    "print(x_train, x_train.shape)\n",
    "print(y_train, y_train.shape)"
   ]
  }
 ],
 "metadata": {
  "kernelspec": {
   "display_name": "Python 3",
   "language": "python",
   "name": "python3"
  },
  "language_info": {
   "name": "python",
   "version": "3.9.6"
  },
  "orig_nbformat": 4,
  "vscode": {
   "interpreter": {
    "hash": "31f2aee4e71d21fbe5cf8b01ff0e069b9275f58929596ceb00d14d90e3e16cd6"
   }
  }
 },
 "nbformat": 4,
 "nbformat_minor": 2
}
